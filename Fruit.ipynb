{
 "cells": [
  {
   "cell_type": "code",
   "execution_count": 1,
   "id": "b07e2d08-6a3d-45c7-90b6-66ef24b99bf1",
   "metadata": {},
   "outputs": [
    {
     "name": "stdout",
     "output_type": "stream",
     "text": [
      "Today's fruit is:Banana\n"
     ]
    }
   ],
   "source": [
    "import random\n",
    "fruits=('Apple','Orange','Banana','Pear','Tomato')\n",
    "cf=random.choice(fruits)\n",
    "print(\"Today's fruit is:\"+cf)"
   ]
  },
  {
   "cell_type": "code",
   "execution_count": null,
   "id": "0ee00f5d-1a71-4582-be42-47574501f0c5",
   "metadata": {},
   "outputs": [],
   "source": []
  }
 ],
 "metadata": {
  "kernelspec": {
   "display_name": "Python 3 (ipykernel)",
   "language": "python",
   "name": "python3"
  },
  "language_info": {
   "codemirror_mode": {
    "name": "ipython",
    "version": 3
   },
   "file_extension": ".py",
   "mimetype": "text/x-python",
   "name": "python",
   "nbconvert_exporter": "python",
   "pygments_lexer": "ipython3",
   "version": "3.11.7"
  }
 },
 "nbformat": 4,
 "nbformat_minor": 5
}
